{
  "nbformat": 4,
  "nbformat_minor": 0,
  "metadata": {
    "colab": {
      "provenance": []
    },
    "kernelspec": {
      "name": "python3",
      "display_name": "Python 3"
    },
    "language_info": {
      "name": "python"
    }
  },
  "cells": [
    {
      "cell_type": "code",
      "source": [
        "# =========================\n",
        "# SETUP\n",
        "# =========================\n",
        "\n",
        "# Install dependencies\n",
        "!pip install gluonts pandas numpy datasets pyarrow -q\n",
        "\n",
        "# Import common libraries\n",
        "import pandas as pd\n",
        "import numpy as np\n",
        "import os\n",
        "\n",
        "# Create folder to save outputs\n",
        "os.makedirs(\"datasets_csv\", exist_ok=True)\n",
        "\n",
        "print(\"Setup done ✅\")\n"
      ],
      "metadata": {
        "colab": {
          "base_uri": "https://localhost:8080/"
        },
        "id": "Rx0VfHxgNQhH",
        "outputId": "fb626b24-9b36-4926-96db-d3ea16848e47"
      },
      "execution_count": 5,
      "outputs": [
        {
          "output_type": "stream",
          "name": "stdout",
          "text": [
            "\u001b[?25l   \u001b[90m━━━━━━━━━━━━━━━━━━━━━━━━━━━━━━━━━━━━━━━━\u001b[0m \u001b[32m0.0/491.4 kB\u001b[0m \u001b[31m?\u001b[0m eta \u001b[36m-:--:--\u001b[0m\r\u001b[2K   \u001b[91m━━━━━━━━━━━━━━━━━━━━━━━\u001b[0m\u001b[90m╺\u001b[0m\u001b[90m━━━━━━━━━━━━━━━━\u001b[0m \u001b[32m286.7/491.4 kB\u001b[0m \u001b[31m8.4 MB/s\u001b[0m eta \u001b[36m0:00:01\u001b[0m\r\u001b[2K   \u001b[90m━━━━━━━━━━━━━━━━━━━━━━━━━━━━━━━━━━━━━━━━\u001b[0m \u001b[32m491.4/491.4 kB\u001b[0m \u001b[31m9.7 MB/s\u001b[0m eta \u001b[36m0:00:00\u001b[0m\n",
            "\u001b[?25h\u001b[?25l   \u001b[90m━━━━━━━━━━━━━━━━━━━━━━━━━━━━━━━━━━━━━━━━\u001b[0m \u001b[32m0.0/116.3 kB\u001b[0m \u001b[31m?\u001b[0m eta \u001b[36m-:--:--\u001b[0m\r\u001b[2K   \u001b[90m━━━━━━━━━━━━━━━━━━━━━━━━━━━━━━━━━━━━━━━━\u001b[0m \u001b[32m116.3/116.3 kB\u001b[0m \u001b[31m9.0 MB/s\u001b[0m eta \u001b[36m0:00:00\u001b[0m\n",
            "\u001b[?25h\u001b[?25l   \u001b[90m━━━━━━━━━━━━━━━━━━━━━━━━━━━━━━━━━━━━━━━━\u001b[0m \u001b[32m0.0/193.6 kB\u001b[0m \u001b[31m?\u001b[0m eta \u001b[36m-:--:--\u001b[0m\r\u001b[2K   \u001b[90m━━━━━━━━━━━━━━━━━━━━━━━━━━━━━━━━━━━━━━━━\u001b[0m \u001b[32m193.6/193.6 kB\u001b[0m \u001b[31m15.6 MB/s\u001b[0m eta \u001b[36m0:00:00\u001b[0m\n",
            "\u001b[2K   \u001b[90m━━━━━━━━━━━━━━━━━━━━━━━━━━━━━━━━━━━━━━━━\u001b[0m \u001b[32m143.5/143.5 kB\u001b[0m \u001b[31m11.2 MB/s\u001b[0m eta \u001b[36m0:00:00\u001b[0m\n",
            "\u001b[2K   \u001b[90m━━━━━━━━━━━━━━━━━━━━━━━━━━━━━━━━━━━━━━━━\u001b[0m \u001b[32m194.8/194.8 kB\u001b[0m \u001b[31m15.5 MB/s\u001b[0m eta \u001b[36m0:00:00\u001b[0m\n",
            "\u001b[?25h\u001b[31mERROR: pip's dependency resolver does not currently take into account all the packages that are installed. This behaviour is the source of the following dependency conflicts.\n",
            "torch 2.6.0+cu124 requires nvidia-cublas-cu12==12.4.5.8; platform_system == \"Linux\" and platform_machine == \"x86_64\", but you have nvidia-cublas-cu12 12.5.3.2 which is incompatible.\n",
            "torch 2.6.0+cu124 requires nvidia-cuda-cupti-cu12==12.4.127; platform_system == \"Linux\" and platform_machine == \"x86_64\", but you have nvidia-cuda-cupti-cu12 12.5.82 which is incompatible.\n",
            "torch 2.6.0+cu124 requires nvidia-cuda-nvrtc-cu12==12.4.127; platform_system == \"Linux\" and platform_machine == \"x86_64\", but you have nvidia-cuda-nvrtc-cu12 12.5.82 which is incompatible.\n",
            "torch 2.6.0+cu124 requires nvidia-cuda-runtime-cu12==12.4.127; platform_system == \"Linux\" and platform_machine == \"x86_64\", but you have nvidia-cuda-runtime-cu12 12.5.82 which is incompatible.\n",
            "torch 2.6.0+cu124 requires nvidia-cudnn-cu12==9.1.0.70; platform_system == \"Linux\" and platform_machine == \"x86_64\", but you have nvidia-cudnn-cu12 9.3.0.75 which is incompatible.\n",
            "torch 2.6.0+cu124 requires nvidia-cufft-cu12==11.2.1.3; platform_system == \"Linux\" and platform_machine == \"x86_64\", but you have nvidia-cufft-cu12 11.2.3.61 which is incompatible.\n",
            "torch 2.6.0+cu124 requires nvidia-curand-cu12==10.3.5.147; platform_system == \"Linux\" and platform_machine == \"x86_64\", but you have nvidia-curand-cu12 10.3.6.82 which is incompatible.\n",
            "torch 2.6.0+cu124 requires nvidia-cusolver-cu12==11.6.1.9; platform_system == \"Linux\" and platform_machine == \"x86_64\", but you have nvidia-cusolver-cu12 11.6.3.83 which is incompatible.\n",
            "torch 2.6.0+cu124 requires nvidia-cusparse-cu12==12.3.1.170; platform_system == \"Linux\" and platform_machine == \"x86_64\", but you have nvidia-cusparse-cu12 12.5.1.3 which is incompatible.\n",
            "torch 2.6.0+cu124 requires nvidia-nvjitlink-cu12==12.4.127; platform_system == \"Linux\" and platform_machine == \"x86_64\", but you have nvidia-nvjitlink-cu12 12.5.82 which is incompatible.\n",
            "gcsfs 2025.3.2 requires fsspec==2025.3.2, but you have fsspec 2025.3.0 which is incompatible.\u001b[0m\u001b[31m\n",
            "\u001b[0mSetup done ✅\n"
          ]
        }
      ]
    },
    {
      "cell_type": "code",
      "source": [
        "# =========================\n",
        "# M4 Monthly\n",
        "# =========================\n",
        "\n",
        "# Import\n",
        "from gluonts.dataset.repository.datasets import get_dataset\n",
        "\n",
        "# Download\n",
        "m4_dataset = get_dataset(\"m4_monthly\")\n",
        "\n",
        "# Extract and process\n",
        "train_list = []\n",
        "for i, entry in enumerate(m4_dataset.train):\n",
        "    if i >= 100:  # Only 100 samples\n",
        "        break\n",
        "    ts = entry['target']\n",
        "    id_ = entry['item_id']\n",
        "    df = pd.DataFrame({\n",
        "        'id': [id_] * len(ts),\n",
        "        'value': ts,\n",
        "        'timestamp': pd.date_range(start=entry['start'].to_timestamp(), periods=len(ts), freq='M')\n",
        "    })\n",
        "    train_list.append(df)\n",
        "\n",
        "# Combine\n",
        "m4_monthly_df = pd.concat(train_list, ignore_index=True)\n",
        "\n",
        "# Save\n",
        "m4_monthly_df.to_csv(\"datasets_csv/m4_monthly.csv\", index=False)\n",
        "print(\"Saved M4 monthly dataset ✅\")\n"
      ],
      "metadata": {
        "colab": {
          "base_uri": "https://localhost:8080/"
        },
        "id": "YN99gKQTNVNs",
        "outputId": "01b686e3-57fa-43c8-8914-29f9e797c8f8"
      },
      "execution_count": 7,
      "outputs": [
        {
          "output_type": "stream",
          "name": "stderr",
          "text": [
            "<ipython-input-7-a48b07437489>:21: FutureWarning: 'M' is deprecated and will be removed in a future version, please use 'ME' instead.\n",
            "  'timestamp': pd.date_range(start=entry['start'].to_timestamp(), periods=len(ts), freq='M')\n"
          ]
        },
        {
          "output_type": "stream",
          "name": "stdout",
          "text": [
            "Saved M4 monthly dataset ✅\n"
          ]
        }
      ]
    },
    {
      "cell_type": "code",
      "source": [
        "# =========================\n",
        "# GluonTS Datasets\n",
        "# =========================\n",
        "\n",
        "# Function to download and save GluonTS dataset\n",
        "def save_gluonts_dataset(name, filename_prefix):\n",
        "    from gluonts.dataset.repository.datasets import get_dataset\n",
        "\n",
        "    dataset = get_dataset(name)\n",
        "    dfs = []\n",
        "    count = 0\n",
        "    for entry in dataset.train:\n",
        "        if count >= 100:  # 100 samples only\n",
        "            break\n",
        "        ts = entry['target']\n",
        "        id_ = entry['item_id']\n",
        "        df = pd.DataFrame({\n",
        "            'id': [id_] * len(ts),\n",
        "            'value': ts,\n",
        "            'timestamp': pd.date_range(start=entry['start'].to_timestamp(), periods=len(ts), freq='H')\n",
        "        })\n",
        "        dfs.append(df)\n",
        "        count += 1\n",
        "    final_df = pd.concat(dfs, ignore_index=True)\n",
        "    final_df.to_csv(f\"datasets_csv/{filename_prefix}.csv\", index=False)\n",
        "    print(f\"Saved {filename_prefix} dataset ✅\")\n",
        "\n",
        "# Download and Save\n",
        "save_gluonts_dataset(\"electricity\", \"gluonts_electricity\")\n",
        "save_gluonts_dataset(\"traffic\", \"gluonts_traffic\")\n",
        "save_gluonts_dataset(\"exchange_rate\", \"gluonts_exchange_rate\")\n"
      ],
      "metadata": {
        "colab": {
          "base_uri": "https://localhost:8080/"
        },
        "id": "OMpFN79qNYOZ",
        "outputId": "2a417277-da77-4f69-acdb-2f091aba5dc3"
      },
      "execution_count": 9,
      "outputs": [
        {
          "output_type": "stream",
          "name": "stderr",
          "text": [
            "<ipython-input-9-07b817fb14e2>:20: FutureWarning: 'H' is deprecated and will be removed in a future version, please use 'h' instead.\n",
            "  'timestamp': pd.date_range(start=entry['start'].to_timestamp(), periods=len(ts), freq='H')\n"
          ]
        },
        {
          "output_type": "stream",
          "name": "stdout",
          "text": [
            "Saved gluonts_electricity dataset ✅\n"
          ]
        },
        {
          "output_type": "stream",
          "name": "stderr",
          "text": [
            "<ipython-input-9-07b817fb14e2>:20: FutureWarning: 'H' is deprecated and will be removed in a future version, please use 'h' instead.\n",
            "  'timestamp': pd.date_range(start=entry['start'].to_timestamp(), periods=len(ts), freq='H')\n"
          ]
        },
        {
          "output_type": "stream",
          "name": "stdout",
          "text": [
            "Saved gluonts_traffic dataset ✅\n"
          ]
        },
        {
          "output_type": "stream",
          "name": "stderr",
          "text": [
            "/usr/local/lib/python3.11/dist-packages/gluonts/dataset/repository/_lstnet.py:133: FutureWarning: Period with BDay freq is deprecated and will be removed in a future version. Use a DatetimeIndex with BDay freq instead.\n",
            "  time_index = pd.period_range(\n",
            "/usr/local/lib/python3.11/dist-packages/gluonts/dataset/repository/_lstnet.py:133: FutureWarning: PeriodDtype[B] is deprecated and will be removed in a future version. Use a DatetimeIndex with freq='B' instead\n",
            "  time_index = pd.period_range(\n",
            "/usr/local/lib/python3.11/dist-packages/gluonts/dataset/repository/_lstnet.py:177: FutureWarning: Period with BDay freq is deprecated and will be removed in a future version. Use a DatetimeIndex with BDay freq instead.\n",
            "  training_end + i * ds_info.prediction_length\n",
            "/usr/local/lib/python3.11/dist-packages/gluonts/dataset/repository/_lstnet.py:186: FutureWarning: Period with BDay freq is deprecated and will be removed in a future version. Use a DatetimeIndex with BDay freq instead.\n",
            "  prediction_start_date + ds_info.prediction_length\n",
            "/usr/local/lib/python3.11/dist-packages/gluonts/dataset/common.py:263: FutureWarning: Period with BDay freq is deprecated and will be removed in a future version. Use a DatetimeIndex with BDay freq instead.\n",
            "  return pd.Period(val, freq)\n",
            "<ipython-input-9-07b817fb14e2>:20: FutureWarning: Period with BDay freq is deprecated and will be removed in a future version. Use a DatetimeIndex with BDay freq instead.\n",
            "  'timestamp': pd.date_range(start=entry['start'].to_timestamp(), periods=len(ts), freq='H')\n",
            "<ipython-input-9-07b817fb14e2>:20: FutureWarning: 'H' is deprecated and will be removed in a future version, please use 'h' instead.\n",
            "  'timestamp': pd.date_range(start=entry['start'].to_timestamp(), periods=len(ts), freq='H')\n"
          ]
        },
        {
          "output_type": "stream",
          "name": "stdout",
          "text": [
            "Saved gluonts_exchange_rate dataset ✅\n"
          ]
        }
      ]
    },
    {
      "cell_type": "code",
      "source": [
        "# =========================\n",
        "# ETTm2 Dataset\n",
        "# =========================\n",
        "\n",
        "# Import\n",
        "import pandas as pd\n",
        "\n",
        "# Download the ETTm2 dataset\n",
        "!wget -q https://raw.githubusercontent.com/zhouhaoyi/ETDataset/main/ETT-small/ETTm2.csv -P datasets_csv/\n",
        "\n",
        "# Load\n",
        "ett_df = pd.read_csv(\"datasets_csv/ETTm2.csv\")\n",
        "ett_df['date'] = pd.to_datetime(ett_df['date'])\n",
        "\n",
        "# Resample to Monthly mean\n",
        "ett_monthly = ett_df.set_index('date').resample('M').mean().reset_index()\n",
        "\n",
        "# Take first 100 timestamps for simplicity\n",
        "ett_monthly_sampled = ett_monthly.head(100)\n",
        "\n",
        "# Save\n",
        "ett_monthly_sampled.to_csv(\"datasets_csv/ettm2_monthly.csv\", index=False)\n",
        "print(\"Saved ETTm2 monthly dataset ✅\")\n"
      ],
      "metadata": {
        "colab": {
          "base_uri": "https://localhost:8080/"
        },
        "id": "VQmG39M_OMoM",
        "outputId": "8acbd999-ed06-4752-f19a-0f5b2389fbc4"
      },
      "execution_count": 10,
      "outputs": [
        {
          "output_type": "stream",
          "name": "stdout",
          "text": [
            "Saved ETTm2 monthly dataset ✅\n"
          ]
        },
        {
          "output_type": "stream",
          "name": "stderr",
          "text": [
            "<ipython-input-10-eaf1aafb0fa6>:16: FutureWarning: 'M' is deprecated and will be removed in a future version, please use 'ME' instead.\n",
            "  ett_monthly = ett_df.set_index('date').resample('M').mean().reset_index()\n"
          ]
        }
      ]
    },
    {
      "cell_type": "code",
      "source": [
        "# =========================\n",
        "# BIGDATA22 (Simulated)\n",
        "# =========================\n",
        "\n",
        "# Import\n",
        "import numpy as np\n",
        "import pandas as pd\n",
        "\n",
        "# Simulate stock price data\n",
        "dates = pd.date_range(start='2010-01-01', end='2020-12-31', freq='B')  # Business days\n",
        "np.random.seed(42)\n",
        "\n",
        "stocks = [f'Stock{i}' for i in range(5)]  # Simulate 5 stock series\n",
        "data = {stock: 100 + np.cumsum(np.random.randn(len(dates))) for stock in stocks}\n",
        "bigdata_df = pd.DataFrame(data, index=dates)\n",
        "\n",
        "# Resample to Monthly\n",
        "bigdata_monthly = bigdata_df.resample('M').last().reset_index()\n",
        "\n",
        "# Melt into long format\n",
        "bigdata_monthly_melted = bigdata_monthly.melt(id_vars=['index'], var_name='id', value_name='value')\n",
        "bigdata_monthly_melted.rename(columns={'index': 'timestamp'}, inplace=True)\n",
        "\n",
        "# Take 100 rows\n",
        "bigdata_monthly_sampled = bigdata_monthly_melted.head(100)\n",
        "\n",
        "# Save\n",
        "bigdata_monthly_sampled.to_csv(\"datasets_csv/bigdata22_monthly.csv\", index=False)\n",
        "print(\"Saved BIGDATA22 monthly dataset ✅\")\n"
      ],
      "metadata": {
        "colab": {
          "base_uri": "https://localhost:8080/"
        },
        "id": "fa-ikKdJORuu",
        "outputId": "38b53bce-bd42-4765-98cd-2c3b0fe3523a"
      },
      "execution_count": 11,
      "outputs": [
        {
          "output_type": "stream",
          "name": "stdout",
          "text": [
            "Saved BIGDATA22 monthly dataset ✅\n"
          ]
        },
        {
          "output_type": "stream",
          "name": "stderr",
          "text": [
            "<ipython-input-11-58df6dcd0006>:18: FutureWarning: 'M' is deprecated and will be removed in a future version, please use 'ME' instead.\n",
            "  bigdata_monthly = bigdata_df.resample('M').last().reset_index()\n"
          ]
        }
      ]
    },
    {
      "cell_type": "code",
      "source": [
        "# =========================\n",
        "# Weather Dataset\n",
        "# =========================\n",
        "\n",
        "# Import\n",
        "import pandas as pd\n",
        "\n",
        "# Download sample weather data\n",
        "!wget -q https://raw.githubusercontent.com/jbrownlee/Datasets/master/daily-min-temperatures.csv -P datasets_csv/\n",
        "\n",
        "# Load\n",
        "weather_df = pd.read_csv(\"datasets_csv/daily-min-temperatures.csv\")\n",
        "weather_df['Date'] = pd.to_datetime(weather_df['Date'])\n",
        "\n",
        "# Resample to Monthly mean\n",
        "weather_monthly = weather_df.set_index('Date').resample('M').mean().reset_index()\n",
        "\n",
        "# Take first 100 rows\n",
        "weather_monthly_sampled = weather_monthly.head(100)\n",
        "\n",
        "# Save\n",
        "weather_monthly_sampled.to_csv(\"datasets_csv/weather_monthly.csv\", index=False)\n",
        "print(\"Saved Weather monthly dataset ✅\")\n"
      ],
      "metadata": {
        "colab": {
          "base_uri": "https://localhost:8080/"
        },
        "id": "NOswOpb4OaPN",
        "outputId": "b962903c-a656-4e3d-9eda-2956a9b0d9bd"
      },
      "execution_count": 13,
      "outputs": [
        {
          "output_type": "stream",
          "name": "stdout",
          "text": [
            "Saved Weather monthly dataset ✅\n"
          ]
        },
        {
          "output_type": "stream",
          "name": "stderr",
          "text": [
            "<ipython-input-13-98e8a86b0571>:16: FutureWarning: 'M' is deprecated and will be removed in a future version, please use 'ME' instead.\n",
            "  weather_monthly = weather_df.set_index('Date').resample('M').mean().reset_index()\n"
          ]
        }
      ]
    },
    {
      "cell_type": "code",
      "source": [
        "# First zip the folder\n",
        "!zip -r datasets_csv.zip datasets_csv\n",
        "\n",
        "# Then download\n",
        "from google.colab import files\n",
        "files.download('datasets_csv.zip')\n"
      ],
      "metadata": {
        "colab": {
          "base_uri": "https://localhost:8080/",
          "height": 191
        },
        "id": "egbgFum9QRvG",
        "outputId": "3da3ed1c-1282-47be-b497-bb54e491372f"
      },
      "execution_count": 14,
      "outputs": [
        {
          "output_type": "stream",
          "name": "stdout",
          "text": [
            "  adding: datasets_csv/ (stored 0%)\n",
            "  adding: datasets_csv/m4_monthly.csv (deflated 76%)\n",
            "  adding: datasets_csv/daily-min-temperatures.csv (deflated 79%)\n",
            "  adding: datasets_csv/ETTm2.csv (deflated 84%)\n",
            "  adding: datasets_csv/gluonts_electricity.csv (deflated 86%)\n",
            "  adding: datasets_csv/ettm2_monthly.csv (deflated 48%)\n",
            "  adding: datasets_csv/weather_monthly.csv (deflated 74%)\n",
            "  adding: datasets_csv/gluonts_traffic.csv (deflated 85%)\n",
            "  adding: datasets_csv/bigdata22_monthly.csv (deflated 64%)\n",
            "  adding: datasets_csv/gluonts_exchange_rate.csv (deflated 83%)\n"
          ]
        },
        {
          "output_type": "display_data",
          "data": {
            "text/plain": [
              "<IPython.core.display.Javascript object>"
            ],
            "application/javascript": [
              "\n",
              "    async function download(id, filename, size) {\n",
              "      if (!google.colab.kernel.accessAllowed) {\n",
              "        return;\n",
              "      }\n",
              "      const div = document.createElement('div');\n",
              "      const label = document.createElement('label');\n",
              "      label.textContent = `Downloading \"${filename}\": `;\n",
              "      div.appendChild(label);\n",
              "      const progress = document.createElement('progress');\n",
              "      progress.max = size;\n",
              "      div.appendChild(progress);\n",
              "      document.body.appendChild(div);\n",
              "\n",
              "      const buffers = [];\n",
              "      let downloaded = 0;\n",
              "\n",
              "      const channel = await google.colab.kernel.comms.open(id);\n",
              "      // Send a message to notify the kernel that we're ready.\n",
              "      channel.send({})\n",
              "\n",
              "      for await (const message of channel.messages) {\n",
              "        // Send a message to notify the kernel that we're ready.\n",
              "        channel.send({})\n",
              "        if (message.buffers) {\n",
              "          for (const buffer of message.buffers) {\n",
              "            buffers.push(buffer);\n",
              "            downloaded += buffer.byteLength;\n",
              "            progress.value = downloaded;\n",
              "          }\n",
              "        }\n",
              "      }\n",
              "      const blob = new Blob(buffers, {type: 'application/binary'});\n",
              "      const a = document.createElement('a');\n",
              "      a.href = window.URL.createObjectURL(blob);\n",
              "      a.download = filename;\n",
              "      div.appendChild(a);\n",
              "      a.click();\n",
              "      div.remove();\n",
              "    }\n",
              "  "
            ]
          },
          "metadata": {}
        },
        {
          "output_type": "display_data",
          "data": {
            "text/plain": [
              "<IPython.core.display.Javascript object>"
            ],
            "application/javascript": [
              "download(\"download_bf499151-7c03-43bb-b949-b2b4f03f8d34\", \"datasets_csv.zip\", 16543453)"
            ]
          },
          "metadata": {}
        }
      ]
    }
  ]
}